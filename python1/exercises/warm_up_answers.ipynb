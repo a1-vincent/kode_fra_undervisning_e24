{
 "cells": [
  {
   "cell_type": "markdown",
   "metadata": {},
   "source": [
    "# Warm up"
   ]
  },
  {
   "cell_type": "code",
   "execution_count": null,
   "metadata": {},
   "outputs": [],
   "source": [
    "#Hvordan får man fat i et element fra \n",
    "\n",
    "namelist[obj]\n",
    "tuplename[obj]\n",
    "30 in s\n",
    "dictname[keywork]"
   ]
  },
  {
   "cell_type": "code",
   "execution_count": null,
   "metadata": {},
   "outputs": [],
   "source": [
    "#Hvordan iterer man \n",
    "for numbers in l:\n",
    "tuplename[start:stop]"
   ]
  },
  {
   "cell_type": "code",
   "execution_count": null,
   "metadata": {},
   "outputs": [],
   "source": [
    "##Hvordan iterer man i gennem\n",
    "#liste\n",
    "for number in l:\n",
    "    print(numbers)\n",
    "\n",
    "#set \n",
    "for number in s:\n",
    "    print(numbers)\n",
    "\n",
    "#dict for values:\n",
    "    for values in d.values():\n",
    "        print(key)\n",
    "\n",
    "#dict for key and values\n",
    "for values in d.items():\n",
    "        print(key)"
   ]
  },
  {
   "cell_type": "code",
   "execution_count": 9,
   "metadata": {},
   "outputs": [
    {
     "data": {
      "text/plain": [
       "[3, 4, 7]"
      ]
     },
     "execution_count": 9,
     "metadata": {},
     "output_type": "execute_result"
    }
   ],
   "source": [
    "#slicing\n",
    "\n",
    "l = [1, 2, 3, 4, 7, 6, 8]\n",
    "\n",
    "l[0:3]\n",
    "l[2:5]\n",
    "#l[(len(l))//2:]\n",
    "#l[::2]"
   ]
  },
  {
   "cell_type": "code",
   "execution_count": 8,
   "metadata": {},
   "outputs": [
    {
     "data": {
      "text/plain": [
       "['Adam', 'Alex', 'Carla', 'Henning']"
      ]
     },
     "execution_count": 8,
     "metadata": {},
     "output_type": "execute_result"
    }
   ],
   "source": [
    "l = [1, 2, 3, 4, 7, 6, 8]\n",
    "\n",
    "\n",
    "#list \n",
    "sorted(l, key=int)\n",
    "#list\n",
    "sorted(l)\n",
    "\n",
    "l2 = ['Alex', 'Henning', 'Carla', 'Adam']\n",
    "def simplesort(n):\n",
    "    return 'a' in n\n",
    "\n",
    "sorted(l2)"
   ]
  },
  {
   "cell_type": "markdown",
   "metadata": {},
   "source": [
    "## B. front_x\n",
    "Given a list of strings, return a list with the strings in sorted order, except group all the strings that begin with 'x' first.    \n",
    "e.g. ['mix', 'xyz', 'apple', 'xanadu', 'aardvark'] yields ['xanadu', 'xyz', 'aardvark', 'apple', 'mix']    \n",
    "\n",
    "_Hint: this can be done by making 2 lists and sorting each of them before combining them._"
   ]
  },
  {
   "cell_type": "code",
   "execution_count": null,
   "metadata": {},
   "outputs": [],
   "source": [
    "def front_x(words):\n",
    "    xlist = []\n",
    "    stringlist = []\n",
    "\n",
    "    if words.find('x') \n",
    "\n",
    "    return "
   ]
  }
 ],
 "metadata": {
  "kernelspec": {
   "display_name": ".venv",
   "language": "python",
   "name": "python3"
  },
  "language_info": {
   "codemirror_mode": {
    "name": "ipython",
    "version": 3
   },
   "file_extension": ".py",
   "mimetype": "text/x-python",
   "name": "python",
   "nbconvert_exporter": "python",
   "pygments_lexer": "ipython3",
   "version": "3.12.5"
  }
 },
 "nbformat": 4,
 "nbformat_minor": 2
}
